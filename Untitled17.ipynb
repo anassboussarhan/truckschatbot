{
  "nbformat": 4,
  "nbformat_minor": 0,
  "metadata": {
    "colab": {
      "name": "Untitled17.ipynb",
      "provenance": [],
      "include_colab_link": true
    },
    "kernelspec": {
      "name": "python3",
      "display_name": "Python 3"
    }
  },
  "cells": [
    {
      "cell_type": "markdown",
      "metadata": {
        "id": "view-in-github",
        "colab_type": "text"
      },
      "source": [
        "<a href=\"https://colab.research.google.com/github/anassboussarhan/truckschatbot/blob/master/Untitled17.ipynb\" target=\"_parent\"><img src=\"https://colab.research.google.com/assets/colab-badge.svg\" alt=\"Open In Colab\"/></a>"
      ]
    },
    {
      "cell_type": "code",
      "metadata": {
        "id": "pbUN9Pta9OFF",
        "colab_type": "code",
        "outputId": "f3b4d47b-5f4f-47f0-cc92-dc8cf79cdc56",
        "colab": {
          "base_uri": "https://localhost:8080/",
          "height": 858
        }
      },
      "source": [
        "import json\n",
        "import re\n",
        "import spacy \n",
        "nlp = spacy.load('en_core_web_sm') \n",
        "\n",
        "\n",
        "\n",
        "# with open('data.txt') as json_file:\n",
        "    # data = json.load(json_file)\n",
        "\n",
        "#Function to generate indexes\n",
        "def gen_index(name,company):\n",
        "  return(name.lower().replace(\" \", \"\")+company.lower().replace(\" \", \"\"))\n",
        "#Get names from an input NB : this function is case sensitive ,because how the Spacy Model was trained at the frist place , we can retrain\n",
        "#a new model that suits our case\n",
        "def get_name(input):\n",
        "  doc=nlp(input)\n",
        "  output=[(e.text) for e in doc.ents if e.label_==\"PERSON\" ]\n",
        "  return output\n",
        "#Get brands from an input NB : this function is case sensitive ,because how the Spacy Model was trained at the frist place , we can retrain\n",
        "#a new model that suits our case\n",
        "def get_brands(input):\n",
        "  doc=nlp(input)\n",
        "  output=[(e.text) for e in doc.ents if e.label_==\"ORG\"]\n",
        "  return output\n",
        "#Get models from an input using Regex\n",
        "def get_models(input):\n",
        "  return input.replace(';',' ').replace(',',' ').replace('and',' ').split()\n",
        "\n",
        "\n",
        "#Chat bot function that runs once ,normally it should loop during the implementation\n",
        "def chat_bot():\n",
        "  saved_text=\"\"\n",
        "  input_text=input(\"Hallow, what's your name\")\n",
        "  saved_text=saved_text+\"Chat Bot:Hallow, what's your name \\n\"+\"Customer:\"+input_text+\"\\n\"\n",
        "  #Checking the name input\n",
        "  while True:\n",
        "    if(len(get_name(input_text))==0 or len(get_name(input_text))>1 ):\n",
        "      input_text=input(\"Please type a valide Name.NB:User upper cases for first letters\")\n",
        "      saved_text=saved_text+\"Chat Bot:Please type a valide Name.NB:User upper cases for first letters \\n\"+\"Customer:\"+input_text+\"\\n\"\n",
        "    else:\n",
        "      name=get_name(input_text)[0]\n",
        "      break\n",
        "  #Add a test on the company name   \n",
        "  input_text=input(\"Hi \"+name+\",what's the name of your company?\")\n",
        "  saved_text=saved_text+\"Chat Bot:Hi \"+name+\",what's the name of your company? \\n\"+\"Customer:\"+input_text+\"\\n\"\n",
        "  company=input_text\n",
        "  index=gen_index(name,company)\n",
        "  \n",
        "  #Confirmation check\n",
        "  input_text=input(\"Do you own trucks?\")\n",
        "  saved_text=saved_text+\"Chat Bot:Do you own trucks?\\n\"+\"Customer:\"+input_text+\"\\n\"\n",
        "  conf=input_text.lower()\n",
        "  \n",
        "\n",
        "\n",
        "  if(conf==\"yes\"):\n",
        "    input_text=input(\"How many trucks do you have?\")\n",
        "    saved_text=saved_text+\"Chat Bot:How many trucks do you have? \\n\"+\"Customer:\"+input_text+\"\\n\"\n",
        "    number_trucks=int(input_text)\n",
        "    json1={\"index\":index,\"name\":name,\"company\":company,\"conf\":conf,\"number_trucks\":number_trucks,\"brands\":[]}\n",
        "    input_text=input(\"What brands are they\")\n",
        "    saved_text=saved_text+\"Chat Bot:What brands are they \\n\"+\"Customer:\"+input_text+\"\\n\"\n",
        "    #Checking the brands\n",
        "    while True:\n",
        "      if(len(get_brands(input_text))==0 ):\n",
        "        input_text=input(\"Please type valid brands.NB:User upper cases for first letters\")\n",
        "        saved_text=saved_text+\"Chat Bot:Please type a valide Name.NB:User upper cases for first letters \\n\"+\"Customer:\"+input_text+\"\\n\"\n",
        "      else:\n",
        "        brands =get_brands(input_text)[0]\n",
        "        break\n",
        "    for i in range(len(brands)):\n",
        "      #Add a test here\n",
        "       input_text=input(\"How many \" +brands[i]+ \" trucks do you have?\")\n",
        "       saved_text=saved_text+\"Chat Bot:How many \" +brands[i]+ \" trucks do you have?\\n\"+\"Customer:\"+input_text+\"\\n\"\n",
        "       number=int(input_text)\n",
        "       json1[\"brands\"].append({\"brands_name\":brands[i],\"number_brand_trucks\":number,\"models\":[]})\n",
        "       #Add a test here\n",
        "       input_text=input(\"What models are they?\")\n",
        "       saved_text=saved_text+\"Chat Bot:What models are they?\\n\"+\"Customer:\"+input_text+\"\\n\"\n",
        "       models = get_models(input_text)\n",
        "       for j in range(len(models)):\n",
        "         input_text=input(\"How many \" +models[j]+ \" trucks do you have?\")\n",
        "         saved_text=saved_text+\"Chat Bot:How many \" +models[j]+ \" trucks do you have?\\n\"+\"Customer:\"+input_text+\"\\n\"\n",
        "         number=int(input_text)\n",
        "         input_text=input(\"What is engine size?\")\n",
        "         saved_text=saved_text+\"Chat Bot:What is engine size?\\n\"+\"Customer:\"+input_text+\"\\n\"\n",
        "         engine=input_text\n",
        "         input_text=input(\"How many axles do they have?\")\n",
        "         saved_text=saved_text+\"Chat Bot:How many axles do they have?\\n\"+\"Customer:\"+input_text+\"\\n\"\n",
        "         axles=int(input_text)\n",
        "         json1[\"brands\"][i][\"models\"].append({\n",
        "        \"model_name\":models[j],\n",
        "        \"number\":number,\n",
        "        \"engine\":engine,\n",
        "        \"axles\":axles})\n",
        "  else:\n",
        "    json1={\"index\":index,\"name\":name,\"company\":company,\"conf\":conf}\n",
        "\n",
        "  #Saving the json file\n",
        "  # with open('data.txt', 'w') as outfile:\n",
        "    # json.dump(json1, outfile)\n",
        "  #Save the CSV file\n",
        "  print(\"Thank yo for your time , Please note that our conversation will be saved .We are GPDR compliant by the way\")\n",
        "  return json1\n",
        "\n",
        "\n",
        "\n",
        "\n",
        "chat_bot()\n"
      ],
      "execution_count": 86,
      "outputs": [
        {
          "output_type": "stream",
          "text": [
            "Hallow, what's your nameAnass Boussarha\n",
            "Please type a valide Name.NB:User upper cases for first lettersAnass Boussarha\n",
            "Please type a valide Name.NB:User upper cases for first lettersAnass Boussarhan\n",
            "Hi Anass Boussarhan,what's the name of your company?Deutsh Post\n",
            "Do you own trucks?yes\n",
            "How many trucks do you have?8\n",
            "What brands are theyMercedess and Volvo\n",
            "How many V trucks do you have?2\n",
            "What models are they?Gtx\n",
            "How many Gtx trucks do you have?2\n",
            "What is engine size?2l\n",
            "How many axles do they have?2\n",
            "How many o trucks do you have?2\n",
            "What models are they?lbd and FTl\n",
            "How many lbd trucks do you have?1\n",
            "What is engine size?3l\n",
            "How many axles do they have?2\n",
            "How many FTl trucks do you have?2\n",
            "What is engine size?2l\n",
            "How many axles do they have?2\n"
          ],
          "name": "stdout"
        },
        {
          "output_type": "error",
          "ename": "KeyboardInterrupt",
          "evalue": "ignored",
          "traceback": [
            "\u001b[0;31m---------------------------------------------------------------------------\u001b[0m",
            "\u001b[0;31mKeyboardInterrupt\u001b[0m                         Traceback (most recent call last)",
            "\u001b[0;32m/usr/local/lib/python3.6/dist-packages/ipykernel/kernelbase.py\u001b[0m in \u001b[0;36m_input_request\u001b[0;34m(self, prompt, ident, parent, password)\u001b[0m\n\u001b[1;32m    729\u001b[0m             \u001b[0;32mtry\u001b[0m\u001b[0;34m:\u001b[0m\u001b[0;34m\u001b[0m\u001b[0;34m\u001b[0m\u001b[0m\n\u001b[0;32m--> 730\u001b[0;31m                 \u001b[0mident\u001b[0m\u001b[0;34m,\u001b[0m \u001b[0mreply\u001b[0m \u001b[0;34m=\u001b[0m \u001b[0mself\u001b[0m\u001b[0;34m.\u001b[0m\u001b[0msession\u001b[0m\u001b[0;34m.\u001b[0m\u001b[0mrecv\u001b[0m\u001b[0;34m(\u001b[0m\u001b[0mself\u001b[0m\u001b[0;34m.\u001b[0m\u001b[0mstdin_socket\u001b[0m\u001b[0;34m,\u001b[0m \u001b[0;36m0\u001b[0m\u001b[0;34m)\u001b[0m\u001b[0;34m\u001b[0m\u001b[0;34m\u001b[0m\u001b[0m\n\u001b[0m\u001b[1;32m    731\u001b[0m             \u001b[0;32mexcept\u001b[0m \u001b[0mException\u001b[0m\u001b[0;34m:\u001b[0m\u001b[0;34m\u001b[0m\u001b[0;34m\u001b[0m\u001b[0m\n",
            "\u001b[0;32m/usr/local/lib/python3.6/dist-packages/jupyter_client/session.py\u001b[0m in \u001b[0;36mrecv\u001b[0;34m(self, socket, mode, content, copy)\u001b[0m\n\u001b[1;32m    802\u001b[0m         \u001b[0;32mtry\u001b[0m\u001b[0;34m:\u001b[0m\u001b[0;34m\u001b[0m\u001b[0;34m\u001b[0m\u001b[0m\n\u001b[0;32m--> 803\u001b[0;31m             \u001b[0mmsg_list\u001b[0m \u001b[0;34m=\u001b[0m \u001b[0msocket\u001b[0m\u001b[0;34m.\u001b[0m\u001b[0mrecv_multipart\u001b[0m\u001b[0;34m(\u001b[0m\u001b[0mmode\u001b[0m\u001b[0;34m,\u001b[0m \u001b[0mcopy\u001b[0m\u001b[0;34m=\u001b[0m\u001b[0mcopy\u001b[0m\u001b[0;34m)\u001b[0m\u001b[0;34m\u001b[0m\u001b[0;34m\u001b[0m\u001b[0m\n\u001b[0m\u001b[1;32m    804\u001b[0m         \u001b[0;32mexcept\u001b[0m \u001b[0mzmq\u001b[0m\u001b[0;34m.\u001b[0m\u001b[0mZMQError\u001b[0m \u001b[0;32mas\u001b[0m \u001b[0me\u001b[0m\u001b[0;34m:\u001b[0m\u001b[0;34m\u001b[0m\u001b[0;34m\u001b[0m\u001b[0m\n",
            "\u001b[0;32m/usr/local/lib/python3.6/dist-packages/zmq/sugar/socket.py\u001b[0m in \u001b[0;36mrecv_multipart\u001b[0;34m(self, flags, copy, track)\u001b[0m\n\u001b[1;32m    465\u001b[0m         \"\"\"\n\u001b[0;32m--> 466\u001b[0;31m         \u001b[0mparts\u001b[0m \u001b[0;34m=\u001b[0m \u001b[0;34m[\u001b[0m\u001b[0mself\u001b[0m\u001b[0;34m.\u001b[0m\u001b[0mrecv\u001b[0m\u001b[0;34m(\u001b[0m\u001b[0mflags\u001b[0m\u001b[0;34m,\u001b[0m \u001b[0mcopy\u001b[0m\u001b[0;34m=\u001b[0m\u001b[0mcopy\u001b[0m\u001b[0;34m,\u001b[0m \u001b[0mtrack\u001b[0m\u001b[0;34m=\u001b[0m\u001b[0mtrack\u001b[0m\u001b[0;34m)\u001b[0m\u001b[0;34m]\u001b[0m\u001b[0;34m\u001b[0m\u001b[0;34m\u001b[0m\u001b[0m\n\u001b[0m\u001b[1;32m    467\u001b[0m         \u001b[0;31m# have first part already, only loop while more to receive\u001b[0m\u001b[0;34m\u001b[0m\u001b[0;34m\u001b[0m\u001b[0;34m\u001b[0m\u001b[0m\n",
            "\u001b[0;32mzmq/backend/cython/socket.pyx\u001b[0m in \u001b[0;36mzmq.backend.cython.socket.Socket.recv\u001b[0;34m()\u001b[0m\n",
            "\u001b[0;32mzmq/backend/cython/socket.pyx\u001b[0m in \u001b[0;36mzmq.backend.cython.socket.Socket.recv\u001b[0;34m()\u001b[0m\n",
            "\u001b[0;32mzmq/backend/cython/socket.pyx\u001b[0m in \u001b[0;36mzmq.backend.cython.socket._recv_copy\u001b[0;34m()\u001b[0m\n",
            "\u001b[0;32m/usr/local/lib/python3.6/dist-packages/zmq/backend/cython/checkrc.pxd\u001b[0m in \u001b[0;36mzmq.backend.cython.checkrc._check_rc\u001b[0;34m()\u001b[0m\n",
            "\u001b[0;31mKeyboardInterrupt\u001b[0m: ",
            "\nDuring handling of the above exception, another exception occurred:\n",
            "\u001b[0;31mKeyboardInterrupt\u001b[0m                         Traceback (most recent call last)",
            "\u001b[0;32m<ipython-input-86-ba7425474cf7>\u001b[0m in \u001b[0;36m<module>\u001b[0;34m()\u001b[0m\n\u001b[1;32m    108\u001b[0m \u001b[0;34m\u001b[0m\u001b[0m\n\u001b[1;32m    109\u001b[0m \u001b[0;34m\u001b[0m\u001b[0m\n\u001b[0;32m--> 110\u001b[0;31m \u001b[0mchat_bot\u001b[0m\u001b[0;34m(\u001b[0m\u001b[0;34m)\u001b[0m\u001b[0;34m\u001b[0m\u001b[0;34m\u001b[0m\u001b[0m\n\u001b[0m",
            "\u001b[0;32m<ipython-input-86-ba7425474cf7>\u001b[0m in \u001b[0;36mchat_bot\u001b[0;34m()\u001b[0m\n\u001b[1;32m     72\u001b[0m     \u001b[0;32mfor\u001b[0m \u001b[0mi\u001b[0m \u001b[0;32min\u001b[0m \u001b[0mrange\u001b[0m\u001b[0;34m(\u001b[0m\u001b[0mlen\u001b[0m\u001b[0;34m(\u001b[0m\u001b[0mbrands\u001b[0m\u001b[0;34m)\u001b[0m\u001b[0;34m)\u001b[0m\u001b[0;34m:\u001b[0m\u001b[0;34m\u001b[0m\u001b[0;34m\u001b[0m\u001b[0m\n\u001b[1;32m     73\u001b[0m       \u001b[0;31m#Add a test here\u001b[0m\u001b[0;34m\u001b[0m\u001b[0;34m\u001b[0m\u001b[0;34m\u001b[0m\u001b[0m\n\u001b[0;32m---> 74\u001b[0;31m        \u001b[0minput_text\u001b[0m\u001b[0;34m=\u001b[0m\u001b[0minput\u001b[0m\u001b[0;34m(\u001b[0m\u001b[0;34m\"How many \"\u001b[0m \u001b[0;34m+\u001b[0m\u001b[0mbrands\u001b[0m\u001b[0;34m[\u001b[0m\u001b[0mi\u001b[0m\u001b[0;34m]\u001b[0m\u001b[0;34m+\u001b[0m \u001b[0;34m\" trucks do you have?\"\u001b[0m\u001b[0;34m)\u001b[0m\u001b[0;34m\u001b[0m\u001b[0;34m\u001b[0m\u001b[0m\n\u001b[0m\u001b[1;32m     75\u001b[0m        \u001b[0msaved_text\u001b[0m\u001b[0;34m=\u001b[0m\u001b[0msaved_text\u001b[0m\u001b[0;34m+\u001b[0m\u001b[0;34m\"Chat Bot:How many \"\u001b[0m \u001b[0;34m+\u001b[0m\u001b[0mbrands\u001b[0m\u001b[0;34m[\u001b[0m\u001b[0mi\u001b[0m\u001b[0;34m]\u001b[0m\u001b[0;34m+\u001b[0m \u001b[0;34m\" trucks do you have?\\n\"\u001b[0m\u001b[0;34m+\u001b[0m\u001b[0;34m\"Customer:\"\u001b[0m\u001b[0;34m+\u001b[0m\u001b[0minput_text\u001b[0m\u001b[0;34m+\u001b[0m\u001b[0;34m\"\\n\"\u001b[0m\u001b[0;34m\u001b[0m\u001b[0;34m\u001b[0m\u001b[0m\n\u001b[1;32m     76\u001b[0m        \u001b[0mnumber\u001b[0m\u001b[0;34m=\u001b[0m\u001b[0mint\u001b[0m\u001b[0;34m(\u001b[0m\u001b[0minput_text\u001b[0m\u001b[0;34m)\u001b[0m\u001b[0;34m\u001b[0m\u001b[0;34m\u001b[0m\u001b[0m\n",
            "\u001b[0;32m/usr/local/lib/python3.6/dist-packages/ipykernel/kernelbase.py\u001b[0m in \u001b[0;36mraw_input\u001b[0;34m(self, prompt)\u001b[0m\n\u001b[1;32m    703\u001b[0m             \u001b[0mself\u001b[0m\u001b[0;34m.\u001b[0m\u001b[0m_parent_ident\u001b[0m\u001b[0;34m,\u001b[0m\u001b[0;34m\u001b[0m\u001b[0;34m\u001b[0m\u001b[0m\n\u001b[1;32m    704\u001b[0m             \u001b[0mself\u001b[0m\u001b[0;34m.\u001b[0m\u001b[0m_parent_header\u001b[0m\u001b[0;34m,\u001b[0m\u001b[0;34m\u001b[0m\u001b[0;34m\u001b[0m\u001b[0m\n\u001b[0;32m--> 705\u001b[0;31m             \u001b[0mpassword\u001b[0m\u001b[0;34m=\u001b[0m\u001b[0;32mFalse\u001b[0m\u001b[0;34m,\u001b[0m\u001b[0;34m\u001b[0m\u001b[0;34m\u001b[0m\u001b[0m\n\u001b[0m\u001b[1;32m    706\u001b[0m         )\n\u001b[1;32m    707\u001b[0m \u001b[0;34m\u001b[0m\u001b[0m\n",
            "\u001b[0;32m/usr/local/lib/python3.6/dist-packages/ipykernel/kernelbase.py\u001b[0m in \u001b[0;36m_input_request\u001b[0;34m(self, prompt, ident, parent, password)\u001b[0m\n\u001b[1;32m    733\u001b[0m             \u001b[0;32mexcept\u001b[0m \u001b[0mKeyboardInterrupt\u001b[0m\u001b[0;34m:\u001b[0m\u001b[0;34m\u001b[0m\u001b[0;34m\u001b[0m\u001b[0m\n\u001b[1;32m    734\u001b[0m                 \u001b[0;31m# re-raise KeyboardInterrupt, to truncate traceback\u001b[0m\u001b[0;34m\u001b[0m\u001b[0;34m\u001b[0m\u001b[0;34m\u001b[0m\u001b[0m\n\u001b[0;32m--> 735\u001b[0;31m                 \u001b[0;32mraise\u001b[0m \u001b[0mKeyboardInterrupt\u001b[0m\u001b[0;34m\u001b[0m\u001b[0;34m\u001b[0m\u001b[0m\n\u001b[0m\u001b[1;32m    736\u001b[0m             \u001b[0;32melse\u001b[0m\u001b[0;34m:\u001b[0m\u001b[0;34m\u001b[0m\u001b[0;34m\u001b[0m\u001b[0m\n\u001b[1;32m    737\u001b[0m                 \u001b[0;32mbreak\u001b[0m\u001b[0;34m\u001b[0m\u001b[0;34m\u001b[0m\u001b[0m\n",
            "\u001b[0;31mKeyboardInterrupt\u001b[0m: "
          ]
        }
      ]
    },
    {
      "cell_type": "code",
      "metadata": {
        "id": "-qvkyzUuodgf",
        "colab_type": "code",
        "outputId": "8c421f4e-2b4d-4685-c5f4-67e366696474",
        "colab": {
          "base_uri": "https://localhost:8080/",
          "height": 34
        }
      },
      "source": [
        ""
      ],
      "execution_count": 84,
      "outputs": [
        {
          "output_type": "execute_result",
          "data": {
            "text/plain": [
              "['mazerati', 'lambo']"
            ]
          },
          "metadata": {
            "tags": []
          },
          "execution_count": 84
        }
      ]
    },
    {
      "cell_type": "code",
      "metadata": {
        "id": "WZyNsWWk7D5X",
        "colab_type": "code",
        "colab": {}
      },
      "source": [
        ""
      ],
      "execution_count": 0,
      "outputs": []
    },
    {
      "cell_type": "code",
      "metadata": {
        "id": "6KG1mZTbebQ3",
        "colab_type": "code",
        "colab": {}
      },
      "source": [
        ""
      ],
      "execution_count": 0,
      "outputs": []
    },
    {
      "cell_type": "code",
      "metadata": {
        "id": "IGzrZ7CjFCwr",
        "colab_type": "code",
        "outputId": "6c553461-dfca-4d07-bc87-ae9389af3607",
        "colab": {
          "base_uri": "https://localhost:8080/",
          "height": 34
        }
      },
      "source": [
        ""
      ],
      "execution_count": 71,
      "outputs": [
        {
          "output_type": "execute_result",
          "data": {
            "text/plain": [
              "'yesYesyes'"
            ]
          },
          "metadata": {
            "tags": []
          },
          "execution_count": 71
        }
      ]
    }
  ]
}